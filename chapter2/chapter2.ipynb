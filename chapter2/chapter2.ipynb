{
 "cells": [
  {
   "cell_type": "markdown",
   "metadata": {},
   "source": [
    "## §2. JavaScriptとは"
   ]
  },
  {
   "cell_type": "markdown",
   "metadata": {},
   "source": [
    "JavaScriptとは、主にWebページに **動的な演出** を加えることを目的としたプログラミング言語です。HTMLがWebページの文書の構造を静的に記述するのに対して、JavaScriptは時刻やユーザーの操作に従い、HTMLの要素の内容を動的に変えることができます。JavaScriptは使われる場面によって更に細かく分類することが出来て、実際にユーザーが操作したり見ることが出来る、ブラウザ側の処理の部分を **フロントエンドJS(クライアント・サイドJS)** と呼び、ユーザーからは見えない内部的なサーバー側の処理の部分を **バックエンドJS(サーバー・サイドJS)** と呼びます。\n",
    "  \n",
    "#### コラム : JavaとJavaScript\n",
    "プログラミング学習者の皆さんであれば、Javaと呼ばれるプログラミング言語があることはご存知でしょう。では、名前の似ているJavaとJavaScriptは何か関係があるのでしょうか？  \n",
    "答えは **全く関係ありません** 。  \n",
    "JavaScriptは、1990年代にNetscape社によってLiveScriptという名前で開発されました。当時Netscape社と業務提携していたSun Microsystems社の開発したJavaという言語が大きく流行ったため、JavaScriptという名前に変更されました。そのため、JavaとJavaScriptは名前は似ていても中身は全く別物です。"
   ]
  },
  {
   "cell_type": "markdown",
   "metadata": {},
   "source": [
    "### §2-1. フロントエンド"
   ]
  },
  {
   "cell_type": "markdown",
   "metadata": {},
   "source": [
    "この節では実際にhtmlにJavaScriptを書きながら、基本的なフロントエンドJSの動作を確認します。\n",
    "適当なディレクトリを作成し、その中にex1-1.htmlというファイルを用意して、以下に習って簡単なhtmlを書いてみましょう。\n",
    "```\n",
    "# コマンド\n",
    "$ mkdir test-html\n",
    "$ cd test-html\n",
    "$ touch ex1-1.html\n",
    "$ emacs ex1-1.html\n",
    "```"
   ]
  },
  {
   "cell_type": "markdown",
   "metadata": {},
   "source": [
    "<p style=\"padding-left: 10px\"><em>ex2-1.html</em></p>\n",
    "```html\n",
    "<!DOCTYPE html>\n",
    "<html>\n",
    "<head>\n",
    "    <meta charset=\"UTF-8\">\n",
    "</head>\n",
    "<body>\n",
    "    <script>\n",
    "        console.log(\"コンソールに表示されるかな？\");\n",
    "        alert(\"アラート！\");\n",
    "    </script>\n",
    "</body>\n",
    "</html>\n",
    "```"
   ]
  },
  {
   "cell_type": "markdown",
   "metadata": {},
   "source": [
    "ここで、\n",
    "<span style=\"background-color: #F5F5F5; padding: 2px; margin: 2px; border-radius: 2px; border: 1px solid black;\">&lt;body&gt;</span>\n",
    "タグ内に注目してください。  \n",
    "<span style=\"background-color: #F5F5F5; padding: 2px; margin: 2px; border-radius: 2px; border: 1px solid black;\">&lt;script&gt;</span>\n",
    "タグに囲まれて\n",
    "**console.log(\"\")**\n",
    "という文が描かれていることに気付くと思います。この文はfirefox上のコンソールに情報を出力する時に使います。コンソールとは、firefoxに標準搭載されている開発者向けのツールで、知りたい情報を専用のスペースに表示することができます。起動するにはページが表示された状態で *Ctrl+Shift+k* キーを入力します。  \n",
    "\n",
    "![](../img/00.png)\n",
    "\n",
    "以上の様な新しい画面がブラウザの下部に表示されたら起動に成功しています。  \n",
    "では実際にfirefoxで今作ったex1.htmlをfirefoxで開いてみましょう。\n",
    "まず最初にアラート画面が画面に表示されます。\n",
    "その状態で *Ctrl+Shift+k* キーを押し、コンソールを表示させてみましょう。console.log()で与えた文章がfirefox上に表示されれば成功です。  \n",
    "\n",
    "![](../img/01.png)\n",
    "\n",
    "これらのコンソール、アラート機能は実際にhtml上にJavaScriptを書いていく上で、変数の値や望む出力が得られているか、実行されているかの確認などのデバック作業にも使うことが出来ます。  \n",
    "ここで重要なのが、アラートとコンソールの機能の違いです。\n",
    "htmlを以下のように変更して実際にその動作を確かめてみましょう。"
   ]
  },
  {
   "cell_type": "markdown",
   "metadata": {},
   "source": [
    "<p style=\"padding-left: 10px\"><em>ex2-2.html</em></p>\n",
    "```html\n",
    "<!DOCTYPE html>\n",
    "<html>\n",
    "<head>\n",
    "    <meta charset=\"UTF-8\">\n",
    "</head>\n",
    "<body>\n",
    "    <script>\n",
    "        var arr = [1,2,3,4]\n",
    "        \n",
    "        console.log(arr)\n",
    "        alert(arr)\n",
    "    </script>\n",
    "</body>\n",
    "</html>\n",
    "```"
   ]
  },
  {
   "cell_type": "markdown",
   "metadata": {},
   "source": [
    "ここで新しいコードが出てきました。\n",
    "\n",
    "```\n",
    "var arr = [1,2,3,4]\n",
    "```\n",
    "\n",
    "この文は、変数arrに1,2,3,4という要素を持つ配列を代入しています。JavaScript上ではこの様に変数にオブジェクトを代入することが出来ます。JavaScriptのオブジェクトについては次の節で詳しく説明します。\n",
    "\n",
    "さて、実際にFireoxでファイルを開きウィンドウを表示してみましょう。  \n",
    "最初に画面にアラートが表示されたら、その状態でコンソールの方も表示してみましょう。\n",
    "console.logの方には具体的なオブジェクト込み変数の内容が表示され、アラート画面の方にはオブジェクトの内容が表示されている違いに気づいたでしょうか？ \n",
    "\n",
    "前期に習ったRubyを思い出してください。標準出力をするプログラムを書く場合、pメソッドとputsメソッドがあリました。  \n",
    "JavaScriptでも、この様に表示される内容が使うメソッドによって変わってきます。  \n",
    "Rubyのputsメソッドに似ている挙動をするのがalert()で、pメソッドと似た動作がconsole.log()となります。この側面から、基本的にデバッグではconsole.log()を用いる様にしましょう。"
   ]
  },
  {
   "cell_type": "markdown",
   "metadata": {},
   "source": [
    "### §2-2. バックエンドJS (Node.js)"
   ]
  },
  {
   "cell_type": "markdown",
   "metadata": {},
   "source": [
    "**Node.js**とは、サーバーサイドJavaScript環境と呼ばれているものです。  \n",
    "JavaScriptを解釈し実行するものを **JavaScriptエンジン** と呼びますが、Node.jsではこのエンジンにGoogleが開発した **V8** を採用しており、メモリ消費量が少ない、高速な処理がNode.jsの主な特長となっています。  \n",
    "この章では、実際にjupyterNoteを使ってNode.jsを実行します。基本的な操作はjupyterNoteのチュートリアルと変わりません。\n",
    "\n",
    "#### 変数\n",
    "Node.js では変数が使用できます。以下に宣言と初期化の方法を示します。\n",
    "\n",
    "* 変数の宣言  \n",
    "var hoge;\n",
    "\n",
    "* 変数の初期化  \n",
    "var hoge = 1;\n",
    "\n",
    "#### 関数と無名関数\n",
    "同様に、関数を宣言することも出来ます。Node.jsには関数と無名関数の二種類があります。実際に例を元に違いを学んでいきましょう。\n",
    "\n",
    "* 関数\n",
    "C言語を履修した皆さんには馴染みが深い言葉だと思いますが、Node.jsの内部でもC言語の様に関数を宣言し、使うことが出来ます。\n",
    "```\n",
    "function hoge(target){\n",
    "\treturn target + 1;\n",
    "}\n",
    "```\n",
    "\n",
    "また、変数の宣言の様に以下の形で関数を定義することも出来ます。\n",
    "\n",
    "```\n",
    "var hoge = function (target){\n",
    "\treturn target + 1;\n",
    "}\n",
    "```\n",
    "\n",
    "ここで、どちらの形で関数を定義する場合も関数の引数には型名を記述しない点がC言語とは異なるので注意してください。\n",
    "\n",
    "* 無名関数 (匿名関数)\n",
    "無名関数では、その名の通り名前の無い関数のことを指します。上で挙げた二番目のパターンの記述方法に注目してください。\n",
    "\n",
    "```\n",
    "var hoge = function (target){\n",
    "\treturn target + 1;\n",
    "}\n",
    "```\n",
    "\n",
    "右辺全体を無名関数、または匿名関数と呼びます。次の節でDOMという分野について説明しますが、そこで無名関数を多用するのでこういった物があると記憶に止めておいてください。\n",
    "\n",
    "下にNode.jsの簡単な例を用意しました。各自変数や関数などを好きな値に変更し、動作を確認してみましょう。"
   ]
  },
  {
   "cell_type": "code",
   "execution_count": 27,
   "metadata": {
    "collapsed": false
   },
   "outputs": [
    {
     "name": "stdout",
     "output_type": "stream",
     "text": [
      "1000000000000001\n"
     ]
    }
   ],
   "source": [
    "var test = 1;\n",
    "\n",
    "var plus1 = function(target){\n",
    "    return target + 1;\n",
    "}\n",
    "\n",
    "console.log(plus1(1000000000000000));"
   ]
  },
  {
   "cell_type": "markdown",
   "metadata": {},
   "source": [
    "### §2-4. JSON (JavaScript Object Notation)"
   ]
  },
  {
   "cell_type": "markdown",
   "metadata": {},
   "source": [
    "Jsonとは、JavaScriptのオブジェクトの表記をそのまま応用したデータ構文のことです。Jsonの形式になっていれば、ソースコードに貼り付けるだけでJavaScript内で利用することが出来るようになります。\n",
    "Jsonには大きく分けて\n",
    "\n",
    "* オブジェクト\n",
    "* 配列\n",
    "\n",
    "の二つのデータ形式が存在します。以下にルールとその例を挙げます。\n",
    "#### Jsonオブジェクト\n",
    "\n",
    "* ルール：全体を中括弧 **{ }** で囲み、 **キー** と **値** をコロン **:** で区切って表記したペアをカンマ区切りで列挙。\n",
    "* 例\n",
    "```\n",
    "{\"firstName\":\"John, \"lastName\":\"Doe\"}\n",
    "{\"1st_period\":\"LS2\", \"2nd_period\":\"csI\", \"3rd_period\":\"csI_ex\", \"4th_period\":\"literacy\"}\n",
    "```\n",
    "\n",
    "#### Json配列\n",
    "\n",
    "* ルール：全体を角括弧 **[ ]** で囲み、 **値** をカンマ **,** 区切りで列挙。\n",
    "* 例\n",
    "```\n",
    "[\n",
    "  1,\n",
    "  \"string\",\n",
    "  true\n",
    "]\n",
    "```\n",
    "\n",
    "もちろん、上で挙げたJsonオブジェクトを **値** としてカンマ **,** 区切りで列挙することも出来ます。\n",
    "```\n",
    "[\n",
    "  {\"firstName\":\"John, \"lastName\":\"Doe\"},\n",
    "  {\"1st_period\":\"LS2\", \"2nd_period\":\"csI\", \"3rd_period\":\"csI_ex\", \"4th_period\":\"literacy\"}\n",
    "]\n",
    "```\n",
    "Json配列の要素で **値** として使うことが出来るのは、基本的に以下のデータ型になります。\n",
    "\n",
    "* 数値（整数・浮動小数点）\n",
    "* 文字列（「\" \"」で括る）\n",
    "* 配列（「[ ]」で括る）\n",
    "* オブジェクト（「{ }」で括る）\n",
    "* bool（true・false）\n",
    "* null\n"
   ]
  },
  {
   "cell_type": "markdown",
   "metadata": {},
   "source": [
    "### §2-4.演習"
   ]
  },
  {
   "cell_type": "markdown",
   "metadata": {},
   "source": [
    "以下の演習問題を解き、理解を深めましょう。結果の確認には問題の下部にあるコンソールを利用しても構いません。"
   ]
  },
  {
   "cell_type": "markdown",
   "metadata": {},
   "source": [
    "*  コンソール上に\"Hello World.\"と出力するコードを書け。\n",
    "*  任意の文字を持つalert画面を表示するコードを書け。"
   ]
  },
  {
   "cell_type": "code",
   "execution_count": null,
   "metadata": {
    "collapsed": true
   },
   "outputs": [],
   "source": []
  },
  {
   "cell_type": "markdown",
   "metadata": {},
   "source": [
    "### §2-5. チェックリスト"
   ]
  },
  {
   "cell_type": "markdown",
   "metadata": {},
   "source": [
    "* JavaScriptはどういった目的で使われるか\n",
    "* フロントエンドJSとは？\n",
    "* バックエンドJSとは？\n",
    "* Node.jsの特徴をいくつか挙げよ"
   ]
  },
  {
   "cell_type": "code",
   "execution_count": null,
   "metadata": {
    "collapsed": true
   },
   "outputs": [],
   "source": []
  }
 ],
 "metadata": {
  "kernelspec": {
   "display_name": "NodeJS",
   "language": "javascript",
   "name": "nodejs"
  },
  "language_info": {
   "codemirror_mode": "javascript",
   "file_extension": "js",
   "mimetype": "text/javascript",
   "name": "nodejs",
   "pygments_lexer": "javascript",
   "version": "0.10"
  }
 },
 "nbformat": 4,
 "nbformat_minor": 0
}
